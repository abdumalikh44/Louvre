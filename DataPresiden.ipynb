{
 "cells": [
  {
   "cell_type": "code",
   "execution_count": 1,
   "metadata": {},
   "outputs": [
    {
     "name": "stdout",
     "output_type": "stream",
     "text": [
      "Requirement already satisfied: mysql-connector-python in c:\\users\\lenovo\\anaconda3\\lib\\site-packages (8.0.29)\n",
      "Requirement already satisfied: protobuf>=3.0.0 in c:\\users\\lenovo\\anaconda3\\lib\\site-packages (from mysql-connector-python) (3.20.1)\n"
     ]
    }
   ],
   "source": [
    "!pip install mysql-connector-python"
   ]
  },
  {
   "cell_type": "code",
   "execution_count": 23,
   "metadata": {},
   "outputs": [],
   "source": [
    "#import necessary library\n",
    "import mysql.connector as connection\n",
    "import pandas as pd"
   ]
  },
  {
   "cell_type": "code",
   "execution_count": 40,
   "metadata": {},
   "outputs": [],
   "source": [
    "try:\n",
    "    mydb = connection.connect(host=\"localhost\",database='Pipeline',\n",
    "                              user=\"root\",password=\"1234567\",use_pure=True)\n",
    "    query = \"SELECT * from presiden_2024;\"\n",
    "    result_df = pd.read_sql(query,mydb)\n",
    "    mydb.close()\n",
    "except Exception as e:\n",
    "    mydb.close()\n",
    "    print(str(e))\n"
   ]
  },
  {
   "cell_type": "code",
   "execution_count": 50,
   "metadata": {},
   "outputs": [],
   "source": [
    "result_df.to_pickle('Load.pkl')"
   ]
  },
  {
   "cell_type": "code",
   "execution_count": 30,
   "metadata": {},
   "outputs": [
    {
     "data": {
      "text/html": [
       "<div>\n",
       "<style scoped>\n",
       "    .dataframe tbody tr th:only-of-type {\n",
       "        vertical-align: middle;\n",
       "    }\n",
       "\n",
       "    .dataframe tbody tr th {\n",
       "        vertical-align: top;\n",
       "    }\n",
       "\n",
       "    .dataframe thead th {\n",
       "        text-align: right;\n",
       "    }\n",
       "</style>\n",
       "<table border=\"1\" class=\"dataframe\">\n",
       "  <thead>\n",
       "    <tr style=\"text-align: right;\">\n",
       "      <th></th>\n",
       "      <th>Tahun Lahir</th>\n",
       "      <th>Nama</th>\n",
       "      <th>Partai</th>\n",
       "      <th>Jabatan</th>\n",
       "      <th>Asal</th>\n",
       "    </tr>\n",
       "  </thead>\n",
       "  <tbody>\n",
       "    <tr>\n",
       "      <th>0</th>\n",
       "      <td>1961</td>\n",
       "      <td>Joko Widodo</td>\n",
       "      <td>PDIP</td>\n",
       "      <td>Presiden</td>\n",
       "      <td>Jawa</td>\n",
       "    </tr>\n",
       "    <tr>\n",
       "      <th>1</th>\n",
       "      <td>1978</td>\n",
       "      <td>Agus Yudhoyono</td>\n",
       "      <td>Demokrat</td>\n",
       "      <td>TNI</td>\n",
       "      <td>Jawa</td>\n",
       "    </tr>\n",
       "    <tr>\n",
       "      <th>2</th>\n",
       "      <td>1951</td>\n",
       "      <td>Surya Paloh</td>\n",
       "      <td>Nasdem</td>\n",
       "      <td>Politikus</td>\n",
       "      <td>Aceh</td>\n",
       "    </tr>\n",
       "    <tr>\n",
       "      <th>3</th>\n",
       "      <td>1969</td>\n",
       "      <td>Anies Baswedan</td>\n",
       "      <td>Independen</td>\n",
       "      <td>Gubernur</td>\n",
       "      <td>Jawa</td>\n",
       "    </tr>\n",
       "    <tr>\n",
       "      <th>4</th>\n",
       "      <td>1951</td>\n",
       "      <td>Prabowo</td>\n",
       "      <td>Gerindra</td>\n",
       "      <td>Menteri</td>\n",
       "      <td>Jawa</td>\n",
       "    </tr>\n",
       "  </tbody>\n",
       "</table>\n",
       "</div>"
      ],
      "text/plain": [
       "   Tahun Lahir            Nama      Partai    Jabatan  Asal\n",
       "0         1961     Joko Widodo        PDIP   Presiden  Jawa\n",
       "1         1978  Agus Yudhoyono    Demokrat        TNI  Jawa\n",
       "2         1951     Surya Paloh      Nasdem  Politikus  Aceh\n",
       "3         1969  Anies Baswedan  Independen   Gubernur  Jawa\n",
       "4         1951         Prabowo    Gerindra    Menteri  Jawa"
      ]
     },
     "execution_count": 30,
     "metadata": {},
     "output_type": "execute_result"
    }
   ],
   "source": [
    "result_df.head()"
   ]
  },
  {
   "cell_type": "code",
   "execution_count": 51,
   "metadata": {},
   "outputs": [
    {
     "data": {
      "text/html": [
       "<div>\n",
       "<style scoped>\n",
       "    .dataframe tbody tr th:only-of-type {\n",
       "        vertical-align: middle;\n",
       "    }\n",
       "\n",
       "    .dataframe tbody tr th {\n",
       "        vertical-align: top;\n",
       "    }\n",
       "\n",
       "    .dataframe thead th {\n",
       "        text-align: right;\n",
       "    }\n",
       "</style>\n",
       "<table border=\"1\" class=\"dataframe\">\n",
       "  <thead>\n",
       "    <tr style=\"text-align: right;\">\n",
       "      <th></th>\n",
       "      <th>Tahun Lahir</th>\n",
       "    </tr>\n",
       "    <tr>\n",
       "      <th>Jabatan</th>\n",
       "      <th></th>\n",
       "    </tr>\n",
       "  </thead>\n",
       "  <tbody>\n",
       "    <tr>\n",
       "      <th>Gubernur</th>\n",
       "      <td>1970.0</td>\n",
       "    </tr>\n",
       "    <tr>\n",
       "      <th>Menteri</th>\n",
       "      <td>1951.0</td>\n",
       "    </tr>\n",
       "    <tr>\n",
       "      <th>Politikus</th>\n",
       "      <td>1951.0</td>\n",
       "    </tr>\n",
       "    <tr>\n",
       "      <th>Presiden</th>\n",
       "      <td>1961.0</td>\n",
       "    </tr>\n",
       "    <tr>\n",
       "      <th>TNI</th>\n",
       "      <td>1971.0</td>\n",
       "    </tr>\n",
       "  </tbody>\n",
       "</table>\n",
       "</div>"
      ],
      "text/plain": [
       "           Tahun Lahir\n",
       "Jabatan               \n",
       "Gubernur        1970.0\n",
       "Menteri         1951.0\n",
       "Politikus       1951.0\n",
       "Presiden        1961.0\n",
       "TNI             1971.0"
      ]
     },
     "execution_count": 51,
     "metadata": {},
     "output_type": "execute_result"
    }
   ],
   "source": [
    "result_df.groupby(['Jabatan']).mean()"
   ]
  },
  {
   "cell_type": "markdown",
   "metadata": {},
   "source": [
    ">Hierarchical Indexes"
   ]
  },
  {
   "cell_type": "code",
   "execution_count": 57,
   "metadata": {},
   "outputs": [
    {
     "data": {
      "text/html": [
       "<div>\n",
       "<style scoped>\n",
       "    .dataframe tbody tr th:only-of-type {\n",
       "        vertical-align: middle;\n",
       "    }\n",
       "\n",
       "    .dataframe tbody tr th {\n",
       "        vertical-align: top;\n",
       "    }\n",
       "\n",
       "    .dataframe thead th {\n",
       "        text-align: right;\n",
       "    }\n",
       "</style>\n",
       "<table border=\"1\" class=\"dataframe\">\n",
       "  <thead>\n",
       "    <tr style=\"text-align: right;\">\n",
       "      <th></th>\n",
       "      <th>Tahun Lahir</th>\n",
       "    </tr>\n",
       "    <tr>\n",
       "      <th>Asal</th>\n",
       "      <th></th>\n",
       "    </tr>\n",
       "  </thead>\n",
       "  <tbody>\n",
       "    <tr>\n",
       "      <th>Aceh</th>\n",
       "      <td>1951.000000</td>\n",
       "    </tr>\n",
       "    <tr>\n",
       "      <th>Jawa</th>\n",
       "      <td>1965.666667</td>\n",
       "    </tr>\n",
       "  </tbody>\n",
       "</table>\n",
       "</div>"
      ],
      "text/plain": [
       "      Tahun Lahir\n",
       "Asal             \n",
       "Aceh  1951.000000\n",
       "Jawa  1965.666667"
      ]
     },
     "execution_count": 57,
     "metadata": {},
     "output_type": "execute_result"
    }
   ],
   "source": [
    "result_df.groupby(['Asal']).mean()"
   ]
  },
  {
   "cell_type": "code",
   "execution_count": 4,
   "metadata": {},
   "outputs": [
    {
     "name": "stdout",
     "output_type": "stream",
     "text": [
      "   Tahun Lahir            Nama      Partai    Jabatan  Asal\n",
      "0         1961     Joko Widodo        PDIP   Presiden  Jawa\n",
      "1         1978  Agus Yudhoyono    Demokrat        TNI  Jawa\n",
      "2         1951     Surya Paloh      Nasdem  Politikus  Aceh\n",
      "3         1969  Anies Baswedan  Independen   Gubernur  Jawa\n",
      "4         1951         Prabowo    Gerindra    Menteri  Jawa\n",
      "5         1964  Andika Perkasa  Independen        TNI  Jawa\n",
      "6         1971    Ridwan Kamil  Independen   Gubernur  Jawa\n"
     ]
    }
   ],
   "source": [
    "import pandas as pd\n",
    "\n",
    "data = pd.read_csv(r'C:\\Users\\LENOVO\\Downloads\\presiden_2024.csv')\n",
    "df = pd.DataFrame(data)\n",
    "\n",
    "print (df)"
   ]
  },
  {
   "cell_type": "code",
   "execution_count": 12,
   "metadata": {},
   "outputs": [],
   "source": [
    "df.to_pickle(r'C:\\Users\\LENOVO\\Downloads\\presiden_2024.csv')  \n",
    "df1 = pd.read_pickle(r'C:\\Users\\LENOVO\\Downloads\\presiden_2024.csv')"
   ]
  },
  {
   "cell_type": "code",
   "execution_count": 43,
   "metadata": {},
   "outputs": [
    {
     "name": "stdout",
     "output_type": "stream",
     "text": [
      "   Tahun Lahir            Nama      Partai    Jabatan  Asal\n",
      "0         1961     Joko Widodo        PDIP   Presiden  Jawa\n",
      "1         1978  Agus Yudhoyono    Demokrat        TNI  Jawa\n",
      "2         1951     Surya Paloh      Nasdem  Politikus  Aceh\n",
      "3         1969  Anies Baswedan  Independen   Gubernur  Jawa\n",
      "4         1951         Prabowo    Gerindra    Menteri  Jawa\n",
      "5         1964  Andika Perkasa  Independen        TNI  Jawa\n",
      "6         1971    Ridwan Kamil  Independen   Gubernur  Jawa\n"
     ]
    }
   ],
   "source": [
    "df2 = pd.read_pickle('Tugas4.pkl')\n",
    "# print the dataframe\n",
    "print(df2)"
   ]
  },
  {
   "cell_type": "code",
   "execution_count": 26,
   "metadata": {},
   "outputs": [],
   "source": [
    "df.to_pickle('Tugas.pkl')"
   ]
  }
 ],
 "metadata": {
  "interpreter": {
   "hash": "7679c2132d3f6ce38c9df14d554b39c06862b36a4e6689c81f9ae15bd0911d7d"
  },
  "kernelspec": {
   "display_name": "Python 3.9.7 ('base')",
   "language": "python",
   "name": "python3"
  },
  "language_info": {
   "codemirror_mode": {
    "name": "ipython",
    "version": 3
   },
   "file_extension": ".py",
   "mimetype": "text/x-python",
   "name": "python",
   "nbconvert_exporter": "python",
   "pygments_lexer": "ipython3",
   "version": "3.9.7"
  },
  "orig_nbformat": 4
 },
 "nbformat": 4,
 "nbformat_minor": 2
}
